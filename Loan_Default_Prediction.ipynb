{
 "cells": [
  {
   "cell_type": "markdown",
   "id": "8e7b4b04",
   "metadata": {},
   "source": [
    "# Loan Default Prediction\n",
    "\n",
    "**Goal:** Predict whether a loan will default using tabular features.\n",
    "\n",
    "**Contents:**\n",
    "- Load & inspect data\n",
    "- Preprocess (encoding + scaling)\n",
    "- Train baseline Logistic Regression\n",
    "- Compare with Random Forest\n",
    "- Evaluate (Accuracy, ROC-AUC, Confusion Matrix)\n",
    "- Feature importance\n",
    "\n",
    "Dataset: `loan_default_dataset.csv` (synthetic; generated for demo)."
   ]
  },
  {
   "cell_type": "code",
   "execution_count": null,
   "id": "0d1e3037",
   "metadata": {},
   "outputs": [],
   "source": [
    "import pandas as pd\n",
    "import numpy as np\n",
    "import matplotlib.pyplot as plt\n",
    "from sklearn.model_selection import train_test_split\n",
    "from sklearn.preprocessing import OneHotEncoder, StandardScaler\n",
    "from sklearn.compose import ColumnTransformer\n",
    "from sklearn.pipeline import Pipeline\n",
    "from sklearn.linear_model import LogisticRegression\n",
    "from sklearn.ensemble import RandomForestClassifier\n",
    "from sklearn.metrics import accuracy_score, roc_auc_score, confusion_matrix, RocCurveDisplay, ConfusionMatrixDisplay, classification_report\n",
    "\n",
    "# Load dataset\n",
    "df = pd.read_csv('loan_default_dataset.csv')\n",
    "df.head()\n"
   ]
  },
  {
   "cell_type": "code",
   "execution_count": null,
   "id": "56bf99b9",
   "metadata": {},
   "outputs": [],
   "source": [
    "# Quick overview\n",
    "display(df.describe(include='all'))\n",
    "print('\\nClass balance (Default=1):')\n",
    "print(df['Default'].value_counts(normalize=True).round(3))"
   ]
  },
  {
   "cell_type": "code",
   "execution_count": null,
   "id": "256dbb80",
   "metadata": {},
   "outputs": [],
   "source": [
    "# Split features/target\n",
    "X = df.drop('Default', axis=1)\n",
    "y = df['Default']\n",
    "\n",
    "num_cols = ['ApplicantIncome','CoapplicantIncome','LoanAmount','LoanTerm','Interest_Rate','Dependents']\n",
    "cat_cols = ['Credit_History','Education','Self_Employed','Property_Area']\n",
    "\n",
    "# Preprocess: scale numeric; one-hot encode categorical\n",
    "preprocess = ColumnTransformer([\n",
    "    ('num', StandardScaler(), num_cols),\n",
    "    ('cat', OneHotEncoder(handle_unknown='ignore'), cat_cols)\n",
    "])\n",
    "\n",
    "X_train, X_test, y_train, y_test = train_test_split(X, y, test_size=0.25, random_state=42, stratify=y)"
   ]
  },
  {
   "cell_type": "code",
   "execution_count": null,
   "id": "f13af641",
   "metadata": {},
   "outputs": [],
   "source": [
    "# Baseline: Logistic Regression\n",
    "log_reg = Pipeline(steps=[('prep', preprocess),\n",
    "                         ('clf', LogisticRegression(max_iter=1000))])\n",
    "log_reg.fit(X_train, y_train)\n",
    "y_pred_lr = log_reg.predict(X_test)\n",
    "y_proba_lr = log_reg.predict_proba(X_test)[:,1]\n",
    "\n",
    "acc_lr = accuracy_score(y_test, y_pred_lr)\n",
    "auc_lr = roc_auc_score(y_test, y_proba_lr)\n",
    "print(f'Logistic Regression -> Accuracy: {acc_lr:.3f} | ROC-AUC: {auc_lr:.3f}')"
   ]
  },
  {
   "cell_type": "code",
   "execution_count": null,
   "id": "f1518165",
   "metadata": {},
   "outputs": [],
   "source": [
    "# Tree-based: Random Forest\n",
    "rf = Pipeline(steps=[('prep', preprocess),\n",
    "                    ('clf', RandomForestClassifier(n_estimators=300, random_state=42))])\n",
    "rf.fit(X_train, y_train)\n",
    "y_pred_rf = rf.predict(X_test)\n",
    "# For ROC we need probabilities\n",
    "y_proba_rf = rf.named_steps['clf'].predict_proba(rf.named_steps['prep'].transform(X_test))[:,1]\n",
    "\n",
    "acc_rf = accuracy_score(y_test, y_pred_rf)\n",
    "auc_rf = roc_auc_score(y_test, y_proba_rf)\n",
    "print(f'Random Forest -> Accuracy: {acc_rf:.3f} | ROC-AUC: {auc_rf:.3f}')"
   ]
  },
  {
   "cell_type": "code",
   "execution_count": null,
   "id": "ab0aaf83",
   "metadata": {},
   "outputs": [],
   "source": [
    "# Confusion matrices\n",
    "fig = ConfusionMatrixDisplay(confusion_matrix(y_test, y_pred_lr))\n",
    "fig.plot()\n",
    "plt.title('Logistic Regression - Confusion Matrix')\n",
    "plt.show()\n",
    "\n",
    "fig = ConfusionMatrixDisplay(confusion_matrix(y_test, y_pred_rf))\n",
    "fig.plot()\n",
    "plt.title('Random Forest - Confusion Matrix')\n",
    "plt.show()"
   ]
  },
  {
   "cell_type": "code",
   "execution_count": null,
   "id": "c067b615",
   "metadata": {},
   "outputs": [],
   "source": [
    "RocCurveDisplay.from_predictions(y_test, y_proba_lr)\n",
    "plt.title('Logistic Regression - ROC Curve')\n",
    "plt.show()\n",
    "\n",
    "RocCurveDisplay.from_predictions(y_test, y_proba_rf)\n",
    "plt.title('Random Forest - ROC Curve')\n",
    "plt.show()"
   ]
  },
  {
   "cell_type": "code",
   "execution_count": null,
   "id": "fbe58ede",
   "metadata": {},
   "outputs": [],
   "source": [
    "# Feature importance (approximate) - retrieve feature names after preprocessing\n",
    "ohe = rf.named_steps['prep'].named_transformers_['cat']\n",
    "num_features = num_cols\n",
    "cat_features = list(ohe.get_feature_names_out(cat_cols))\n",
    "all_features = num_features + cat_features\n",
    "\n",
    "importances = rf.named_steps['clf'].feature_importances_\n",
    "\n",
    "feat_imp = pd.Series(importances, index=all_features).sort_values(ascending=False).head(15)\n",
    "print(feat_imp)\n",
    "\n",
    "# Plot\n",
    "plt.figure(figsize=(8,5))\n",
    "feat_imp.iloc[:15].plot(kind='bar')\n",
    "plt.title('Top Feature Importances (Random Forest)')\n",
    "plt.ylabel('Importance')\n",
    "plt.tight_layout()\n",
    "plt.show()"
   ]
  },
  {
   "cell_type": "markdown",
   "id": "a11b6f10",
   "metadata": {},
   "source": [
    "### Conclusion\n",
    "- Two strong baselines were trained: **Logistic Regression** and **Random Forest**.\n",
    "- Metrics reported: Accuracy and ROC-AUC, plus confusion matrices and ROC curves.\n",
    "- The Random Forest usually performs slightly better on this dataset.\n",
    "- Next steps: hyperparameter tuning, class-weighting, and model calibration.\n"
   ]
  }
 ],
 "metadata": {},
 "nbformat": 4,
 "nbformat_minor": 5
}
